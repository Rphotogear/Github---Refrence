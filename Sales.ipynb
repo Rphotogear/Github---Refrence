{
 "cells": [
  {
   "cell_type": "code",
   "execution_count": 34,
   "metadata": {},
   "outputs": [
    {
     "name": "stderr",
     "output_type": "stream",
     "text": [
      "C:\\Users\\Roshan\\AppData\\Local\\Temp\\ipykernel_23828\\3163378399.py:31: SettingWithCopyWarning: \n",
      "A value is trying to be set on a copy of a slice from a DataFrame.\n",
      "Try using .loc[row_indexer,col_indexer] = value instead\n",
      "\n",
      "See the caveats in the documentation: https://pandas.pydata.org/pandas-docs/stable/user_guide/indexing.html#returning-a-view-versus-a-copy\n",
      "  df_SO_not_imported.loc[:,'Paid'] = df_SO_not_imported.loc[:,'Paid'].astype(str).apply(lambda x:x.replace('<font color=#009788><b>PAID: ','').replace('%</b></font>','').replace(' ','').replace('-','').replace('(','').replace(')','').replace('/','').replace('\\t','').lower())\n",
      "C:\\Users\\Roshan\\AppData\\Local\\Temp\\ipykernel_23828\\3163378399.py:33: SettingWithCopyWarning: \n",
      "A value is trying to be set on a copy of a slice from a DataFrame.\n",
      "Try using .loc[row_indexer,col_indexer] = value instead\n",
      "\n",
      "See the caveats in the documentation: https://pandas.pydata.org/pandas-docs/stable/user_guide/indexing.html#returning-a-view-versus-a-copy\n",
      "  df_SO_not_imported['Paid'] = df_SO_not_imported['Paid'].astype(float)\n",
      "C:\\Users\\Roshan\\AppData\\Local\\Temp\\ipykernel_23828\\3163378399.py:34: SettingWithCopyWarning: \n",
      "A value is trying to be set on a copy of a slice from a DataFrame.\n",
      "Try using .loc[row_indexer,col_indexer] = value instead\n",
      "\n",
      "See the caveats in the documentation: https://pandas.pydata.org/pandas-docs/stable/user_guide/indexing.html#returning-a-view-versus-a-copy\n",
      "  df_SO_not_imported['Paid'] = df_SO_not_imported['Paid'].fillna(0)\n",
      "C:\\Users\\Roshan\\AppData\\Local\\Temp\\ipykernel_23828\\3163378399.py:37: SettingWithCopyWarning: \n",
      "A value is trying to be set on a copy of a slice from a DataFrame.\n",
      "Try using .loc[row_indexer,col_indexer] = value instead\n",
      "\n",
      "See the caveats in the documentation: https://pandas.pydata.org/pandas-docs/stable/user_guide/indexing.html#returning-a-view-versus-a-copy\n",
      "  df_SO_not_imported.loc[:,'Cin7 Status'] = df_SO_not_imported.loc[:,'Cin7 Status'].astype(str).apply(lambda x:x.replace('<font color=#009788>','').replace('</font>','').replace('<fontcolor=red>','').replace('<fontcolor=#2196f3>','').replace('<font color=#2196f3>','').replace('<font color=red>','').replace('/','').replace('\\t','').lower())\n",
      "C:\\Users\\Roshan\\AppData\\Local\\Temp\\ipykernel_23828\\3163378399.py:45: SettingWithCopyWarning: \n",
      "A value is trying to be set on a copy of a slice from a DataFrame.\n",
      "Try using .loc[row_indexer,col_indexer] = value instead\n",
      "\n",
      "See the caveats in the documentation: https://pandas.pydata.org/pandas-docs/stable/user_guide/indexing.html#returning-a-view-versus-a-copy\n",
      "  df_SO_unpaid['Qty Moved'] = df_SO_unpaid.index.map(table['Item Qty Moved'])\n"
     ]
    }
   ],
   "source": [
    "import numpy as np\n",
    "import pandas as pd\n",
    "from pandas import json_normalize \n",
    "import requests\n",
    "import json\n",
    "import time as time\n",
    "from datetime import date\n",
    "from datetime import timedelta\n",
    "\n",
    "#SO list\n",
    "file_name_SO = 'orders-15-10-2022.csv'\n",
    "col = ['Cin7 Status','Created','Stage','Ref','Total Incl','Inv No',\t'Invoice',\t'Paid',\t'Company',\t'Customer',\t'Dispatched',\t'Items',\t'Sales Creator',\t'Internal Comments']\n",
    "\n",
    "df_SO_list = pd.read_csv(file_name_SO, usecols=col)\n",
    "\n",
    "#SO detail\n",
    "file_SO_detail = 'SO-'+date.today().strftime(\"%d-%m-%Y\")+'.csv'\n",
    "\n",
    "col1 = ['Order Ref','Item Qty Moved']\n",
    "\n",
    "df_SO_detail = pd.read_csv(file_SO_detail, usecols=col1)\n",
    "table = pd.pivot_table(df_SO_detail, values='Item Qty Moved', index=['Order Ref'], aggfunc=np.sum, fill_value=0)\n",
    "\n",
    "\n",
    "#remove imported invoice\n",
    "\n",
    "df_SO_not_imported = df_SO_list.loc[df_SO_list['Invoice']!='Imported'] \n",
    "\n",
    "#convert the paid column\n",
    "\n",
    "df_SO_not_imported.loc[:,'Paid'] = df_SO_not_imported.loc[:,'Paid'].astype(str).apply(lambda x:x.replace('<font color=#009788><b>PAID: ','').replace('%</b></font>','').replace(' ','').replace('-','').replace('(','').replace(')','').replace('/','').replace('\\t','').lower())\n",
    "\n",
    "df_SO_not_imported['Paid'] = df_SO_not_imported['Paid'].astype(float)\n",
    "df_SO_not_imported['Paid'] = df_SO_not_imported['Paid'].fillna(0)\n",
    "\n",
    "#convert the status\n",
    "df_SO_not_imported.loc[:,'Cin7 Status'] = df_SO_not_imported.loc[:,'Cin7 Status'].astype(str).apply(lambda x:x.replace('<font color=#009788>','').replace('</font>','').replace('<fontcolor=red>','').replace('<fontcolor=#2196f3>','').replace('<font color=#2196f3>','').replace('<font color=red>','').replace('/','').replace('\\t','').lower())\n",
    "\n",
    "#df_SO_not_imported.rename(columns = {'Paid':'Paid (%)'}, inplace = True)\n",
    "\n",
    "#Remove fully paid\n",
    "\n",
    "df_SO_unpaid = df_SO_not_imported.loc[df_SO_not_imported.Paid <100, : ]\n",
    "df_SO_unpaid.set_index('Ref', inplace=True)\n",
    "df_SO_unpaid['Qty Moved'] = df_SO_unpaid.index.map(table['Item Qty Moved'])\n",
    "df_SO_unpaid = df_SO_unpaid.loc[df_SO_unpaid[\"Total Incl\"]>0]\n",
    "\n",
    "wholesaler = ['Auckland Camera Centre','Carters Photographics','Dove Electronics Limited','Ferntech','Fujifilm NZ','Kens Cameras & Video Ltd','Lacklands','Lazer Photos','Panasonic New Zealand Limited','Photo & Video International','Progear','Protel International Technologies Limited','Rubber Monkey','Snapshot Cameras','Wellington Photographic Supplies']\n",
    "df_SO_unpaid_WS = df_SO_unpaid[df_SO_unpaid['Company'].isin(wholesaler)]\n",
    "df_SO_unpaid_other = df_SO_unpaid[~df_SO_unpaid['Company'].isin(wholesaler)]\n",
    "\n",
    "checker = df_SO_unpaid_other['Stage'] !=\"New\"\n",
    "df_SO_unpaid_other = df_SO_unpaid_other[checker]\n",
    "\n",
    "\n",
    "df_SO_unpaid_WS.to_csv('SO follow up - Wholesaler - '+date.today().strftime(\"%d-%m-%Y\")+'.csv')\n",
    "df_SO_unpaid_other.to_csv('SO follow up - Other - '+date.today().strftime(\"%d-%m-%Y\")+'.csv')"
   ]
  },
  {
   "cell_type": "code",
   "execution_count": 35,
   "metadata": {},
   "outputs": [
    {
     "name": "stderr",
     "output_type": "stream",
     "text": [
      "C:\\Users\\Roshan\\AppData\\Local\\Temp\\ipykernel_23828\\4029504887.py:14: DtypeWarning: Columns (5) have mixed types. Specify dtype option on import or set low_memory=False.\n",
      "  df_p = pd.read_csv(file_products, usecols=prod_col)\n"
     ]
    }
   ],
   "source": [
    "from email.policy import default\n",
    "import numpy as np\n",
    "import pandas as pd\n",
    "import matplotlib.pyplot as plt\n",
    "from datetime import date\n",
    "from datetime import timedelta\n",
    "from datetime import datetime\n",
    "\n",
    "file_products = 'ProductExport-'+date.today().strftime(\"%d-%m-%Y\")+'.csv'\n",
    "file_PO = 'PO-'+date.today().strftime(\"%d-%m-%Y\")+'.csv'\n",
    "\n",
    "#set up product df\n",
    "prod_col = ['Style Code', 'Brand', 'Code']\n",
    "df_p = pd.read_csv(file_products, usecols=prod_col)\n",
    "\n",
    "#set up PO df\n",
    "\n",
    "po_col = ['Item Code', 'Item Name', 'Item Qty','Fully Received']\n",
    "df_po = pd.read_csv(file_PO, usecols=po_col)\n",
    "\n",
    "#get PO in the last 7 days\n",
    "\n",
    "start_date = datetime.now()+ timedelta(days=-8)\n",
    "\n",
    "df_po['Fully Received'] = pd.to_datetime(df_po['Fully Received'])\n",
    "df_po = df_po.loc[df_po['Fully Received']>start_date]\n",
    "df_po = df_po.loc[df_po['Item Qty']>0]\n",
    "\n",
    "#merge with product info\n",
    "\n",
    "df_final = df_po.merge(df_p, how='left', left_on='Item Code', right_on='Code')\n",
    "df_final = df_final[['Style Code', 'Brand', 'Code','Item Name', 'Item Qty','Fully Received']]\n",
    "df_final['Style Code'] = df_final['Style Code'].astype('float')\n",
    "df_final = df_final.sort_values(by='Style Code',ascending=False)\n",
    "\n",
    "df_final.to_csv('Products received in the last 7 days - '+date.today().strftime(\"%d-%m-%Y\")+'.csv')"
   ]
  },
  {
   "cell_type": "code",
   "execution_count": null,
   "metadata": {},
   "outputs": [],
   "source": []
  }
 ],
 "metadata": {
  "kernelspec": {
   "display_name": "Python 3.9.12 ('base')",
   "language": "python",
   "name": "python3"
  },
  "language_info": {
   "codemirror_mode": {
    "name": "ipython",
    "version": 3
   },
   "file_extension": ".py",
   "mimetype": "text/x-python",
   "name": "python",
   "nbconvert_exporter": "python",
   "pygments_lexer": "ipython3",
   "version": "3.9.12"
  },
  "orig_nbformat": 2,
  "vscode": {
   "interpreter": {
    "hash": "80513463af03da1c0d9cbd743cc0c14e5b830e858eb74856a4cf574785ce503c"
   }
  }
 },
 "nbformat": 4,
 "nbformat_minor": 2
}
